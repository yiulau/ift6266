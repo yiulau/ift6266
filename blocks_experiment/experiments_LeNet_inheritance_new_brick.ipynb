{
 "cells": [
  {
   "cell_type": "code",
   "execution_count": 1,
   "metadata": {
    "collapsed": false
   },
   "outputs": [
    {
     "name": "stderr",
     "output_type": "stream",
     "text": [
      "Using gpu device 0: GeForce GTX 750 (CNMeM is enabled with initial size: 0.60% of memory, CuDNN 3007)\n"
     ]
    }
   ],
   "source": [
    "\"\"\"Convolutional network example.\n",
    "Run the training for 50 epochs with\n",
    "```\n",
    "python __init__.py --num-epochs 50\n",
    "```\n",
    "It is going to reach around 0.8% error rate on the test set.\n",
    "\"\"\"\n",
    "import logging\n",
    "import numpy\n",
    "from argparse import ArgumentParser\n",
    "\n",
    "from theano import tensor\n",
    "\n",
    "from blocks.algorithms import GradientDescent, Scale\n",
    "from blocks.bricks import (MLP, Rectifier, Initializable, FeedforwardSequence,\n",
    "                           Softmax, Activation)\n",
    "from blocks.bricks.conv import (Convolutional, ConvolutionalSequence,\n",
    "                                Flattener, MaxPooling)\n",
    "from blocks.bricks.cost import CategoricalCrossEntropy, MisclassificationRate\n",
    "from blocks.extensions import FinishAfter, Timing, Printing, ProgressBar\n",
    "from blocks.extensions.monitoring import (DataStreamMonitoring,\n",
    "                                          TrainingDataMonitoring)\n",
    "from blocks.extensions.saveload import Checkpoint\n",
    "from blocks.graph import ComputationGraph\n",
    "from blocks.initialization import Constant, Uniform\n",
    "from blocks.main_loop import MainLoop\n",
    "from blocks.model import Model\n",
    "from blocks.monitoring import aggregation\n",
    "from fuel.datasets import MNIST\n",
    "from fuel.schemes import ShuffledScheme\n",
    "from fuel.streams import DataStream\n",
    "from toolz.itertoolz import interleave\n",
    "\n",
    "\n",
    "class LeNet(FeedforwardSequence, Initializable):\n",
    "    \"\"\"LeNet-like convolutional network.\n",
    "    The class implements LeNet, which is a convolutional sequence with\n",
    "    an MLP on top (several fully-connected layers). For details see\n",
    "    [LeCun95]_.\n",
    "    .. [LeCun95] LeCun, Yann, et al.\n",
    "       *Comparison of learning algorithms for handwritten digit\n",
    "       recognition.*,\n",
    "       International conference on artificial neural networks. Vol. 60.\n",
    "    Parameters\n",
    "    ----------\n",
    "    conv_activations : list of :class:`.Brick`\n",
    "        Activations for convolutional network.\n",
    "    num_channels : int\n",
    "        Number of channels in the input image.\n",
    "    image_shape : tuple\n",
    "        Input image shape.\n",
    "    filter_sizes : list of tuples\n",
    "        Filter sizes of :class:`.blocks.conv.ConvolutionalLayer`.\n",
    "    feature_maps : list\n",
    "        Number of filters for each of convolutions.\n",
    "    pooling_sizes : list of tuples\n",
    "        Sizes of max pooling for each convolutional layer.\n",
    "    top_mlp_activations : list of :class:`.blocks.bricks.Activation`\n",
    "        List of activations for the top MLP.\n",
    "    top_mlp_dims : list\n",
    "        Numbers of hidden units and the output dimension of the top MLP.\n",
    "    conv_step : tuples\n",
    "        Step of convolution (similar for all layers).\n",
    "    border_mode : str\n",
    "        Border mode of convolution (similar for all layers).\n",
    "    \"\"\"   \n",
    "    def __init__(self, conv_activations, num_channels, image_shape,\n",
    "                 filter_sizes, feature_maps, pooling_sizes,\n",
    "                 top_mlp_activations, top_mlp_dims,\n",
    "                 conv_step=None, border_mode='valid', **kwargs):\n",
    "        if conv_step is None:\n",
    "            self.conv_step = (1, 1)\n",
    "        else:\n",
    "            self.conv_step = conv_step\n",
    "        self.num_channels = num_channels\n",
    "        self.image_shape = image_shape\n",
    "        self.top_mlp_activations = top_mlp_activations\n",
    "        self.top_mlp_dims = top_mlp_dims\n",
    "        self.border_mode = border_mode\n",
    "\n",
    "        conv_parameters = zip(filter_sizes, feature_maps)\n",
    "\n",
    "        # Construct convolutional layers with corresponding parameters\n",
    "        self.layers = list(interleave([\n",
    "            (Convolutional(filter_size=filter_size,\n",
    "                           num_filters=num_filter,\n",
    "                           step=self.conv_step,\n",
    "                           border_mode=self.border_mode,\n",
    "                           name='conv_{}'.format(i))\n",
    "             for i, (filter_size, num_filter)\n",
    "             in enumerate(conv_parameters)),\n",
    "            conv_activations,\n",
    "            (MaxPooling(size, name='pool_{}'.format(i))\n",
    "             for i, size in enumerate(pooling_sizes))]))\n",
    "\n",
    "        self.conv_sequence = ConvolutionalSequence(self.layers, num_channels,\n",
    "                                                   image_size=image_shape)\n",
    "\n",
    "        # Construct a top MLP\n",
    "        self.top_mlp = MLP(top_mlp_activations, top_mlp_dims)\n",
    "\n",
    "        # We need to flatten the output of the last convolutional layer.\n",
    "        # This brick accepts a tensor of dimension (batch_size, ...) and\n",
    "        # returns a matrix (batch_size, features)\n",
    "        self.flattener = Flattener()\n",
    "        application_methods = [self.conv_sequence.apply, self.flattener.apply,\n",
    "                               self.top_mlp.apply]\n",
    "        super(LeNet, self).__init__(application_methods, **kwargs)\n",
    "        \n",
    "    @property\n",
    "    def output_dim(self):\n",
    "        return self.top_mlp_dims[-1]\n",
    "\n",
    "    @output_dim.setter\n",
    "    def output_dim(self, value):\n",
    "        self.top_mlp_dims[-1] = value\n",
    "\n",
    "    def _push_allocation_config(self):\n",
    "        self.conv_sequence._push_allocation_config()\n",
    "        conv_out_dim = self.conv_sequence.get_dim('output')\n",
    "\n",
    "        self.top_mlp.activations = self.top_mlp_activations\n",
    "        self.top_mlp.dims = [numpy.prod(conv_out_dim)] + self.top_mlp_dims\n"
   ]
  },
  {
   "cell_type": "code",
   "execution_count": 2,
   "metadata": {
    "collapsed": false
   },
   "outputs": [],
   "source": [
    "feature_maps = [20, 50]\n",
    "mlp_hiddens = [500]\n",
    "conv_sizes = [5, 5]\n",
    "pool_sizes = [2, 2]\n",
    "image_size = (28, 28)\n",
    "output_size = 10\n",
    "conv_activations = [Rectifier() for _ in feature_maps]\n",
    "mlp_activations = [Rectifier() for _ in mlp_hiddens] + [Softmax()]\n",
    "\n"
   ]
  },
  {
   "cell_type": "code",
   "execution_count": 3,
   "metadata": {
    "collapsed": true
   },
   "outputs": [],
   "source": [
    "convnet = LeNet(conv_activations, 1, image_size,\n",
    "                filter_sizes=zip(conv_sizes, conv_sizes),\n",
    "                feature_maps=feature_maps,\n",
    "                pooling_sizes=zip(pool_sizes, pool_sizes),\n",
    "                top_mlp_activations=mlp_activations,\n",
    "                top_mlp_dims=mlp_hiddens + [output_size],\n",
    "                border_mode='full',\n",
    "                weights_init=Uniform(width=.2),\n",
    "                biases_init=Constant(0))\n"
   ]
  },
  {
   "cell_type": "code",
   "execution_count": 4,
   "metadata": {
    "collapsed": true
   },
   "outputs": [],
   "source": [
    "# for convolutional layers.\n",
    "convnet.push_initialization_config()\n",
    "convnet.layers[0].weights_init = Uniform(width=.2)\n",
    "convnet.layers[1].weights_init = Uniform(width=.09)\n",
    "convnet.top_mlp.linear_transformations[0].weights_init = Uniform(width=.08)\n",
    "convnet.top_mlp.linear_transformations[1].weights_init = Uniform(width=.11)\n",
    "convnet.initialize()\n",
    "logging.info(\"Input dim: {} {} {}\".format(\n",
    "    *convnet.children[0].get_dim('input_')))\n",
    "for i, layer in enumerate(convnet.layers):\n",
    "    if isinstance(layer, Activation):\n",
    "        logging.info(\"Layer {} ({})\".format(\n",
    "            i, layer.__class__.__name__))\n",
    "    else:\n",
    "        logging.info(\"Layer {} ({}) dim: {} {} {}\".format(\n",
    "            i, layer.__class__.__name__, *layer.get_dim('output')))\n",
    "x = tensor.tensor4('features')\n",
    "y = tensor.lmatrix('targets')\n",
    "\n"
   ]
  },
  {
   "cell_type": "code",
   "execution_count": 5,
   "metadata": {
    "collapsed": true
   },
   "outputs": [],
   "source": [
    "# Normalize input and apply the convnet\n",
    "probs = convnet.apply(x)\n",
    "cost = (CategoricalCrossEntropy().apply(y.flatten(), probs)\n",
    "        .copy(name='cost'))\n",
    "error_rate = (MisclassificationRate().apply(y.flatten(), probs)\n",
    "              .copy(name='error_rate'))\n",
    "\n",
    "cg = ComputationGraph([cost, error_rate])\n"
   ]
  },
  {
   "cell_type": "code",
   "execution_count": 6,
   "metadata": {
    "collapsed": false
   },
   "outputs": [
    {
     "data": {
      "text/plain": [
       "[b, W, b, W, b, W, b, W]"
      ]
     },
     "execution_count": 6,
     "metadata": {},
     "output_type": "execute_result"
    }
   ],
   "source": [
    "cg.parameters"
   ]
  },
  {
   "cell_type": "code",
   "execution_count": 10,
   "metadata": {
    "collapsed": false
   },
   "outputs": [],
   "source": [
    "from blocks.bricks import Linear"
   ]
  },
  {
   "cell_type": "code",
   "execution_count": 28,
   "metadata": {
    "collapsed": false
   },
   "outputs": [],
   "source": [
    "entity = Linear()"
   ]
  },
  {
   "cell_type": "code",
   "execution_count": 45,
   "metadata": {
    "collapsed": false
   },
   "outputs": [
    {
     "data": {
      "text/plain": [
       "<method-wrapper '__getattribute__' of Linear object at 0x7fe70d7ca350>"
      ]
     },
     "execution_count": 45,
     "metadata": {},
     "output_type": "execute_result"
    }
   ],
   "source": [
    "entity.__getattribute__"
   ]
  },
  {
   "cell_type": "code",
   "execution_count": 22,
   "metadata": {
    "collapsed": false
   },
   "outputs": [
    {
     "data": {
      "text/plain": [
       "{'application': <blocks.bricks.base.Application at 0x7fe715933dd0>,\n",
       " 'brick': <blocks.bricks.simple.Linear object at 0x7fe70df2c210: name=linear>}"
      ]
     },
     "execution_count": 22,
     "metadata": {},
     "output_type": "execute_result"
    }
   ],
   "source": [
    "entity.apply.__dict__"
   ]
  },
  {
   "cell_type": "code",
   "execution_count": 21,
   "metadata": {
    "collapsed": false
   },
   "outputs": [
    {
     "data": {
      "text/plain": [
       "<blocks.bricks.simple.Linear object at 0x7fe70df2c210: name=linear>"
      ]
     },
     "execution_count": 21,
     "metadata": {},
     "output_type": "execute_result"
    }
   ],
   "source": [
    "entity"
   ]
  },
  {
   "cell_type": "code",
   "execution_count": 38,
   "metadata": {
    "collapsed": false
   },
   "outputs": [],
   "source": [
    "n = object()"
   ]
  },
  {
   "cell_type": "code",
   "execution_count": 42,
   "metadata": {
    "collapsed": false
   },
   "outputs": [
    {
     "ename": "NameError",
     "evalue": "name 'entity__getattribute__' is not defined",
     "output_type": "error",
     "traceback": [
      "\u001b[1;31m---------------------------------------------------------------------------\u001b[0m",
      "\u001b[1;31mNameError\u001b[0m                                 Traceback (most recent call last)",
      "\u001b[1;32m<ipython-input-42-4bbb28a9c21e>\u001b[0m in \u001b[0;36m<module>\u001b[1;34m()\u001b[0m\n\u001b[1;32m----> 1\u001b[1;33m \u001b[0mentity__getattribute__\u001b[0m\u001b[1;33m(\u001b[0m\u001b[0mapply\u001b[0m\u001b[1;33m)\u001b[0m\u001b[1;33m\u001b[0m\u001b[0m\n\u001b[0m",
      "\u001b[1;31mNameError\u001b[0m: name 'entity__getattribute__' is not defined"
     ]
    }
   ],
   "source": [
    "entity__getattribute__(apply)"
   ]
  },
  {
   "cell_type": "code",
   "execution_count": null,
   "metadata": {
    "collapsed": true
   },
   "outputs": [],
   "source": []
  }
 ],
 "metadata": {
  "kernelspec": {
   "display_name": "Python 2",
   "language": "python",
   "name": "python2"
  },
  "language_info": {
   "codemirror_mode": {
    "name": "ipython",
    "version": 2
   },
   "file_extension": ".py",
   "mimetype": "text/x-python",
   "name": "python",
   "nbconvert_exporter": "python",
   "pygments_lexer": "ipython2",
   "version": "2.7.10"
  }
 },
 "nbformat": 4,
 "nbformat_minor": 0
}
