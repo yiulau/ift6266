{
 "cells": [
  {
   "cell_type": "code",
   "execution_count": 1,
   "metadata": {
    "collapsed": false
   },
   "outputs": [],
   "source": [
    ">>> import theano\n",
    ">>> a = theano.shared(3.)\n",
    ">>> a.name = 'a'\n",
    ">>> x = theano.tensor.scalar('data')\n",
    ">>> cost = abs(x ** 2 - x ** a)\n",
    ">>> cost.name = 'cost'"
   ]
  },
  {
   "cell_type": "code",
   "execution_count": 2,
   "metadata": {
    "collapsed": true
   },
   "outputs": [],
   "source": [
    ">>> import numpy\n",
    ">>> from fuel.streams import DataStream\n",
    ">>> from fuel.datasets import IterableDataset\n",
    ">>> data_stream = DataStream(IterableDataset(\n",
    "...     numpy.random.rand(280).astype(theano.config.floatX)))"
   ]
  },
  {
   "cell_type": "code",
   "execution_count": 3,
   "metadata": {
    "collapsed": false
   },
   "outputs": [
    {
     "name": "stdout",
     "output_type": "stream",
     "text": [
      "Using saved session configuration for http://localhost:5006/\n",
      "To override, pass 'load_from_config=False' to Session\n"
     ]
    }
   ],
   "source": [
    ">>> from blocks.main_loop import MainLoop\n",
    ">>> from blocks.algorithms import GradientDescent, Scale\n",
    ">>> from blocks.extensions import FinishAfter\n",
    ">>> from blocks.extensions.monitoring import TrainingDataMonitoring\n",
    ">>> from blocks_extras.extensions.plot import Plot  \n",
    ">>> main_loop = MainLoop(\n",
    "...     model=None, data_stream=data_stream,\n",
    "...     algorithm=GradientDescent(cost=cost,\n",
    "...                               parameters=[a],\n",
    "...                               step_rule=Scale(learning_rate=0.1)),\n",
    "...     extensions=[FinishAfter(after_n_epochs=1),\n",
    "...                 TrainingDataMonitoring([cost, a], after_batch=True),\n",
    "...                 Plot('Plotting example', channels=[['cost'], ['a']],\n",
    "...                      after_batch=True)])  \n",
    ">>> main_loop.run() "
   ]
  },
  {
   "cell_type": "code",
   "execution_count": null,
   "metadata": {
    "collapsed": true
   },
   "outputs": [],
   "source": []
  }
 ],
 "metadata": {
  "kernelspec": {
   "display_name": "Python 3",
   "language": "python",
   "name": "python3"
  },
  "language_info": {
   "codemirror_mode": {
    "name": "ipython",
    "version": 3
   },
   "file_extension": ".py",
   "mimetype": "text/x-python",
   "name": "python",
   "nbconvert_exporter": "python",
   "pygments_lexer": "ipython3",
   "version": "3.5.1"
  }
 },
 "nbformat": 4,
 "nbformat_minor": 0
}
