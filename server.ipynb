{
 "cells": [
  {
   "cell_type": "code",
   "execution_count": 1,
   "metadata": {
    "collapsed": false
   },
   "outputs": [],
   "source": [
    "# Let's load and process the dataset\n",
    "from fuel.datasets.dogs_vs_cats import DogsVsCats\n",
    "from fuel.streams import DataStream\n",
    "from fuel.schemes import ShuffledScheme\n",
    "from fuel.transformers.image import RandomFixedSizeCrop\n",
    "from fuel.transformers.image import MinimumImageDimensions\n",
    "from fuel.transformers import Flatten\n",
    "from fuel.transformers import ScaleAndShift\n",
    "\n",
    "# Load the training set\n",
    "train = DogsVsCats(('train',), subset=slice(0, 20000))\n",
    "\n",
    "# We now create a \"stream\" over the dataset which will return shuffled batches\n",
    "# of size 128. Using the DataStream instead of DataStream.default_stream constructor we return\n",
    "# our images exactly as is.\n",
    "stream = DataStream(\n",
    "    train,\n",
    "    iteration_scheme=ShuffledScheme(train.num_examples, 128)\n",
    ")\n",
    "\n",
    "# Our images are of different sizes, so we'll use a Fuel transformer\n",
    "# to upscale images to at least (512,512)\n",
    "\n",
    "upscale_stream = MinimumImageDimensions(stream, (256,256),which_sources=('image_features',))\n",
    "\n",
    "# Take random crops of (32 x 32) from each image\n",
    "cropped_stream = RandomFixedSizeCrop(\n",
    "    upscale_stream, (32, 32), which_sources=('image_features',))\n",
    "\n",
    "# Convert images to [0,1] scale\n",
    "default_cropped_stream = ScaleAndShift(cropped_stream,  1.0/(255.0), 0., which_sources=('image_features',))\n",
    "# We'll use a simple MLP, so we need to flatten the images\n",
    "# from (channel, width, height) to simply (features,)\n",
    "default_flattened_stream = Flatten(\n",
    "    default_cropped_stream, which_sources=('image_features',))\n",
    "    \n",
    "\n",
    "\n"
   ]
  },
  {
   "cell_type": "code",
   "execution_count": null,
   "metadata": {
    "collapsed": false
   },
   "outputs": [],
   "source": [
    "from fuel.server import start_server\n",
    "\n",
    "\n",
    "start_server(default_flattened_stream)"
   ]
  },
  {
   "cell_type": "code",
   "execution_count": 2,
   "metadata": {
    "collapsed": true
   },
   "outputs": [],
   "source": [
    "iterator = default_flattened_stream.get_epoch_iterator()\n",
    "\n",
    "import timeit\n",
    "start_time = timeit.default_timer()\n",
    "x, y = next(iterator)\n",
    "total_time = timeit.default_timer() - start_time"
   ]
  },
  {
   "cell_type": "code",
   "execution_count": 3,
   "metadata": {
    "collapsed": false
   },
   "outputs": [
    {
     "data": {
      "text/plain": [
       "0.47531447000801563"
      ]
     },
     "execution_count": 3,
     "metadata": {},
     "output_type": "execute_result"
    }
   ],
   "source": [
    "total_time"
   ]
  },
  {
   "cell_type": "code",
   "execution_count": 4,
   "metadata": {
    "collapsed": true
   },
   "outputs": [],
   "source": [
    "import os\n",
    "import timeit\n",
    "\n",
    "#os.environ['FUEL_DATA_PATH'] = os.path.abspath('./fuel_data')\n",
    "\n",
    "# Let's load and process the dataset\n",
    "from fuel.datasets.dogs_vs_cats import DogsVsCats\n",
    "from fuel.streams import DataStream\n",
    "from fuel.schemes import ShuffledScheme\n",
    "from fuel.transformers.image import RandomFixedSizeCrop\n",
    "from fuel.transformers.image import MinimumImageDimensions\n",
    "from fuel.transformers import Flatten\n",
    "from fuel.transformers import ScaleAndShift\n",
    "\n",
    "\n",
    "train_set = DogsVsCats(('train',), subset=slice(0, 20000))\n",
    "valid_set = DogsVsCats(('train',), subset=slice(20000, 25000))\n",
    "test_set = DogsVsCats(('test',))\n",
    "\n",
    "batch_size = 128\n",
    "n_train_batches = train_set.num_examples // batch_size\n",
    "\n",
    "#################################################################################\n",
    "# Train Stream\n",
    "# We now create a \"stream\" over the dataset which will return shuffled batches\n",
    "# of size 128. Using the DataStream instead of DataStream.default_stream constructor we return\n",
    "# our images exactly as is.\n",
    "stream = DataStream(\n",
    "    train_set,\n",
    "    iteration_scheme=ShuffledScheme(train_set.num_examples, batch_size)\n",
    ")\n",
    "\n",
    "# Our images are of different sizes, so we'll use a Fuel transformer\n",
    "# to upscale images to at least (512 x 512)\n",
    "\n",
    "upscale_stream = MinimumImageDimensions(stream, (512,512),which_sources=('image_features',))\n",
    "\n",
    "# Take random crops of (32 x 32) from each image\n",
    "cropped_stream = RandomFixedSizeCrop(\n",
    "    upscale_stream, (32, 32), which_sources=('image_features',))\n",
    "\n",
    "# Convert images to [0,1] scale\n",
    "default_cropped_stream = ScaleAndShift(cropped_stream,  1.0/(255.0), 0., which_sources=('image_features',))\n",
    "# We'll use a simple MLP, so we need to flatten the images\n",
    "# from (channel, width, height) to simply (features,)\n",
    "train_stream = Flatten(\n",
    "    default_cropped_stream, which_sources=('image_features',))\n",
    "    \n",
    "######################################################################################\n",
    "# Valid Stream\n",
    "\n",
    "# We now create a \"stream\" over the dataset which will return shuffled batches\n",
    "# of size 128. Using the DataStream instead of DataStream.default_stream constructor we return\n",
    "# our images exactly as is.\n",
    "stream = DataStream(\n",
    "    valid_set,\n",
    "    iteration_scheme=ShuffledScheme(valid_set.num_examples, batch_size)\n",
    ")\n",
    "\n",
    "# Our images are of different sizes, so we'll use a Fuel transformer\n",
    "# to upscale images to at least (512,512)\n",
    "\n",
    "valid_upscale_stream = MinimumImageDimensions(stream, (512,512),which_sources=('image_features',))\n",
    "\n",
    "# Take random crops of (32 x 32) from each image\n",
    "valid_cropped_stream = RandomFixedSizeCrop(\n",
    "    valid_upscale_stream, (32, 32), which_sources=('image_features',))\n",
    "\n",
    "# Convert images to [0,1] scale\n",
    "valid_default_cropped_stream = ScaleAndShift(valid_cropped_stream,  1.0/(255.0), 0., which_sources=('image_features',))\n",
    "# We'll use a simple MLP, so we need to flatten the images\n",
    "# from (channel, width, height) to simply (features,)\n",
    "valid_stream = Flatten(\n",
    "    valid_default_cropped_stream, which_sources=('image_features',))\n",
    "    \n",
    "##########################################################################################\n",
    "# Test Stream \n",
    "\n",
    "# We now create a \"stream\" over the dataset which will return shuffled batches\n",
    "# of size 128. Using the DataStream instead of DataStream.default_stream constructor we return\n",
    "# our images exactly as is.\n",
    "stream = DataStream(\n",
    "    test_set,\n",
    "    iteration_scheme=ShuffledScheme(test_set.num_examples, batch_size)\n",
    ")\n",
    "\n",
    "# Our images are of different sizes, so we'll use a Fuel transformer\n",
    "# to upscale images to at least (512,512)\n",
    "\n",
    "test_upscale_stream = MinimumImageDimensions(stream, (512,512),which_sources=('image_features',))\n",
    "\n",
    "# Take random crops of (32 x 32) from each image\n",
    "test_cropped_stream = RandomFixedSizeCrop(\n",
    "    test_upscale_stream, (32, 32), which_sources=('image_features',))\n",
    "\n",
    "# Convert images to [0,1] scale\n",
    "test_default_cropped_stream = ScaleAndShift(test_cropped_stream,  1.0/(255.0), 0., which_sources=('image_features',))\n",
    "# We'll use a simple MLP, so we need to flatten the images\n",
    "# from (channel, width, height) to simply (features,)\n",
    "test_stream = Flatten(\n",
    "    test_default_cropped_stream, which_sources=('image_features',))\n",
    "    \n",
    "####################################################################################################\n",
    "\n"
   ]
  },
  {
   "cell_type": "code",
   "execution_count": 6,
   "metadata": {
    "collapsed": false
   },
   "outputs": [],
   "source": [
    "from fuel.server import start_server\n",
    "\n",
    "\n"
   ]
  },
  {
   "cell_type": "code",
   "execution_count": null,
   "metadata": {
    "collapsed": false
   },
   "outputs": [],
   "source": [
    "start_server(train_stream, port = 5557)"
   ]
  },
  {
   "cell_type": "code",
   "execution_count": null,
   "metadata": {
    "collapsed": true
   },
   "outputs": [],
   "source": [
    "start_server(valid_stream, port = 5558)"
   ]
  },
  {
   "cell_type": "code",
   "execution_count": null,
   "metadata": {
    "collapsed": true
   },
   "outputs": [],
   "source": [
    "start_server(test_stream, port =5559)"
   ]
  },
  {
   "cell_type": "code",
   "execution_count": null,
   "metadata": {
    "collapsed": true
   },
   "outputs": [],
   "source": []
  }
 ],
 "metadata": {
  "kernelspec": {
   "display_name": "Python 3",
   "language": "python",
   "name": "python3"
  },
  "language_info": {
   "codemirror_mode": {
    "name": "ipython",
    "version": 3
   },
   "file_extension": ".py",
   "mimetype": "text/x-python",
   "name": "python",
   "nbconvert_exporter": "python",
   "pygments_lexer": "ipython3",
   "version": "3.5.1"
  }
 },
 "nbformat": 4,
 "nbformat_minor": 0
}
