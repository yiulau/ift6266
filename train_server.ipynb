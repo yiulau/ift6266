{
 "cells": [
  {
   "cell_type": "code",
   "execution_count": 1,
   "metadata": {
    "collapsed": true
   },
   "outputs": [],
   "source": [
    "# Let's load and process the dataset\n",
    "from fuel.datasets.dogs_vs_cats import DogsVsCats\n",
    "from fuel.streams import DataStream\n",
    "from fuel.schemes import ShuffledScheme\n",
    "from fuel.transformers.image import RandomFixedSizeCrop\n",
    "from fuel.transformers.image import MinimumImageDimensions\n",
    "from fuel.transformers import Flatten\n",
    "from fuel.transformers import ScaleAndShift\n",
    "\n",
    "\n",
    "train_set = DogsVsCats(('train',), subset=slice(0, 20000))\n",
    "valid_set = DogsVsCats(('train',), subset=slice(20000, 25000))\n",
    "test_set = DogsVsCats(('test',))\n",
    "\n",
    "batch_size = 32\n",
    "n_train_batches = train_set.num_examples // batch_size\n",
    "\n",
    "#################################################################################\n",
    "# Train Stream\n",
    "# We now create a \"stream\" over the dataset which will return shuffled batches\n",
    "# of size 128. Using the DataStream instead of DataStream.default_stream constructor we return\n",
    "# our images exactly as is.\n",
    "stream = DataStream(\n",
    "    train_set,\n",
    "    iteration_scheme=ShuffledScheme(train_set.num_examples, batch_size)\n",
    ")\n",
    "\n",
    "# Our images are of different sizes, so we'll use a Fuel transformer\n",
    "# to upscale images to at least (512 x 512)\n",
    "\n",
    "upscale_stream = MinimumImageDimensions(stream, (128,128),which_sources=('image_features',))\n",
    "\n",
    "# Take random crops of (32 x 32) from each image\n",
    "cropped_stream = RandomFixedSizeCrop(\n",
    "    upscale_stream, (32, 32), which_sources=('image_features',))\n",
    "\n",
    "# Convert images to [0,1] scale\n",
    "default_cropped_stream = ScaleAndShift(cropped_stream,  1.0/(255.0), 0., which_sources=('image_features',))\n",
    "# We'll use a simple MLP, so we need to flatten the images\n",
    "# from (channel, width, height) to simply (features,)\n",
    "train_stream = Flatten(\n",
    "    default_cropped_stream, which_sources=('image_features',))\n",
    "    \n",
    "\n",
    "\n",
    "from fuel.server import start_server\n",
    "\n",
    "\n"
   ]
  },
  {
   "cell_type": "code",
   "execution_count": null,
   "metadata": {
    "collapsed": false
   },
   "outputs": [],
   "source": [
    "start_server(train_stream)\n",
    "\n"
   ]
  },
  {
   "cell_type": "code",
   "execution_count": null,
   "metadata": {
    "collapsed": true
   },
   "outputs": [],
   "source": [
    "start_time = timeit.default_timer()\n",
    "x,y = next(iterator)\n",
    "total_time = timeit.default_timer()-start_time"
   ]
  }
 ],
 "metadata": {
  "kernelspec": {
   "display_name": "Python 3",
   "language": "python",
   "name": "python3"
  },
  "language_info": {
   "codemirror_mode": {
    "name": "ipython",
    "version": 3
   },
   "file_extension": ".py",
   "mimetype": "text/x-python",
   "name": "python",
   "nbconvert_exporter": "python",
   "pygments_lexer": "ipython3",
   "version": "3.5.1"
  }
 },
 "nbformat": 4,
 "nbformat_minor": 0
}
